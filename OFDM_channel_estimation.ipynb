{
 "cells": [
  {
   "cell_type": "markdown",
   "metadata": {},
   "source": [
    "# Basic OFDM Example in Python\n",
    "In this notebook, we will investigate the basic building blocks of an OFDM system at the transmitter and receiver side. OFDM (Orthogonal frequency division multiplexing) is a multicarrier system that is applied in a wide range of wireless transmission systems, such as LTE, WiMAX and DVB-T and DAB. The fundamental concept of a multicarrier system is the division of a high-rate transmitted data stream into several low-rate narrow subcarriers. This way, several advantages are obtained:\n",
    "\n",
    "Since the symbol duration is inverse proportional to the symbol rate, each subcarrier has relatively long symbols. Long symbols are robust against multipath fading, as it occurs in wireless systems.\n",
    "When a carrier is in a deep fade due to frequency-selectivity of the channel (i.e. the received energy on this carrier is very low), only the data on this subcarrier is lost, instead of the whole stream.\n",
    "Multicarrier systems allow easy multi-user resource sharing by allocating different subcarriers to different users.\n",
    "Consider the following block diagram, which contains fundamental blocks for the OFDM system:\n",
    "\n",
    "In the following OFDM example, we will go through each block and describe its operation. However, before let us define some parameters that are used for the OFDM system:\n",
    "\n",
    "The number of subcarriers $K$ describes, how many subcarriers are available in the OFDM system.\n"
   ]
  },
  {
   "cell_type": "code",
   "execution_count": 58,
   "metadata": {},
   "outputs": [
    {
     "name": "stdout",
     "output_type": "stream",
     "text": [
      "K =  64\r\n"
     ]
    }
   ],
   "source": [
    "pkg load communications\n",
    "K = 64 % number of OFDM subcarriers"
   ]
  },
  {
   "cell_type": "markdown",
   "metadata": {},
   "source": [
    "The length of the cyclic prefix (CP) denotes the number of samples that are copied from the end of the modulated block to the beginning, to yield a cyclic extension of the block. There is a dedicated article on the CP of OFDM which treats its application in more detail."
   ]
  },
  {
   "cell_type": "code",
   "execution_count": 59,
   "metadata": {},
   "outputs": [
    {
     "name": "stdout",
     "output_type": "stream",
     "text": [
      "CP =  16\r\n"
     ]
    }
   ],
   "source": [
    "CP = K/4  % length of the cyclic prefix: 25% of the block"
   ]
  },
  {
   "cell_type": "markdown",
   "metadata": {},
   "source": [
    "The number of pilots ***P*** in the OFDM symbol describes, how many carriers are used to transmit known information (i.e. pilots). Pilots will be used at the receiver to estimate the wireless channel between transmitter and receiver. Further, we also define the value that each pilots transmits (which is known to the receiver)."
   ]
  },
  {
   "cell_type": "code",
   "execution_count": 60,
   "metadata": {},
   "outputs": [
    {
     "name": "stdout",
     "output_type": "stream",
     "text": [
      "P =  8\n",
      "pilotValue =  3 + 3i\n"
     ]
    }
   ],
   "source": [
    "P = 8 % number of pilot carriers per OFDM block\n",
    "pilotValue = 3 + 3i % The known value each pilot transmits"
   ]
  },
  {
   "cell_type": "markdown",
   "metadata": {},
   "source": [
    "Now, let us define some index sets that describe which carriers transmit pilots and which carriers contain payload.\n",
    "\n"
   ]
  },
  {
   "cell_type": "code",
   "execution_count": 61,
   "metadata": {},
   "outputs": [
    {
     "name": "stdout",
     "output_type": "stream",
     "text": [
      "P =  9\r\n"
     ]
    },
    {
     "data": {
      "image/png": "[encoded data removed]",
      "text/plain": [
       "<IPython.core.display.Image object>"
      ]
     },
     "metadata": {},
     "output_type": "display_data"
    }
   ],
   "source": [
    "allCarriers = 1:1:K;  # indices of all subcarriers ([0, 1, ... K-1])\n",
    "\n",
    "pilotCarriers = allCarriers(1:7:end); # Pilots is every (K/P)th carrier.\n",
    "\n",
    "# For convenience of channel estimation, let's make the last carriers also be a pilot\n",
    "pilotCarriers = [pilotCarriers allCarriers(end)];\n",
    "P = P+1\n",
    "\n",
    "# data carriers are all remaining carriers\n",
    "idx               = ismember(allCarriers,pilotCarriers);\n",
    "dataCarriers      = allCarriers;\n",
    "dataCarriers(idx) = [];\n",
    "\n",
    "plot(pilotCarriers, zeros(1,length(pilotCarriers)), 'bo'); hold on; % label='pilot'\n",
    "plot(dataCarriers,  zeros(1,length(dataCarriers)), 'ro'); hold off; %  label='data'"
   ]
  },
  {
   "cell_type": "markdown",
   "metadata": {},
   "source": [
    "Let's define the modulation index $μ$ and the corresponding mapping table. We consider 16QAM transmission, i.e. we have $μ=4$ bits per symbol. Furthermore, the mapping from groups of 4 bits to a 16QAM constellation symbol shall be defined in ```mapping_table```."
   ]
  },
  {
   "cell_type": "code",
   "execution_count": 62,
   "metadata": {
    "scrolled": true
   },
   "outputs": [
    {
     "name": "stdout",
     "output_type": "stream",
     "text": [
      "mu =  4\n",
      "payloadBits_per_OFDM =  216\n"
     ]
    },
    {
     "data": {
      "image/png": "[encoded data removed]",
      "text/plain": [
       "<IPython.core.display.Image object>"
      ]
     },
     "metadata": {},
     "output_type": "display_data"
    }
   ],
   "source": [
    "mu = 4 % bits per symbol (i.e. 16QAM)\n",
    "payloadBits_per_OFDM = length(dataCarriers)*mu  # number of payload bits per OFDM symbol\n",
    "\n",
    "mapping_table = qammod(0:2^mu-1,2^mu);\n",
    "maxl          = max(real(mapping_table));\n",
    "minl          = min(real(mapping_table));\n",
    "for i = 0 : 2^mu-1\n",
    "        Q = mapping_table(i+1);\n",
    "        plot(real(Q), imag(Q), 'bo'); hold on;\n",
    "        text(real(Q)-0.2, imag(Q)+0.2,dec2bin(i,mu)); hold on;\n",
    "        axis([minl-0.5 1.2*maxl minl-0.5 1.2*maxl])\n",
    "end\n"
   ]
  },
  {
   "cell_type": "markdown",
   "metadata": {},
   "source": [
    "Above, we have plotted the 16QAM constellation, along with the bit-labels. Note the Gray-mapping, i.e. two adjacent constellation symbols differ only by one bit and the other 3 bits remain the same. This technique helps to minimize bit-errors, in case a wrong constellation symbol is detected: Most probably, symbol errors are \"off-by-one\" errors, i.e. a symbol next to the correct symbol is detected. Then, only a single bit-error occurs.\n",
    "\n",
    "The demapping table is simply the inverse mapping of the mapping table:"
   ]
  },
  {
   "cell_type": "code",
   "execution_count": 63,
   "metadata": {},
   "outputs": [],
   "source": [
    "% demapping_table = {v : k for k, v in mapping_table.items()}"
   ]
  },
  {
   "cell_type": "markdown",
   "metadata": {},
   "source": [
    "Let us now define the wireless channel between transmitter and receiver. Here, we use a two-tap multipath channel with given impulse response ```channelResponse```. Also, we plot the corresponding frequency response. As we see, the channel is frequency-selective. Further, we define the signal-to-noise ratio in dB, that should occur at the receiver."
   ]
  },
  {
   "cell_type": "code",
   "execution_count": 64,
   "metadata": {},
   "outputs": [
    {
     "name": "stdout",
     "output_type": "stream",
     "text": [
      "SNRdb =  25\r\n"
     ]
    },
    {
     "data": {
      "image/png": "[encoded data removed]",
      "text/plain": [
       "<IPython.core.display.Image object>"
      ]
     },
     "metadata": {},
     "output_type": "display_data"
    }
   ],
   "source": [
    "channelResponse = [1, 0, 0.3+0.3j];  % the impulse response of the wireless channel\n",
    "H_exact = fft(channelResponse, K);\n",
    "plot(allCarriers, abs(H_exact))\n",
    "\n",
    "SNRdb = 25  % signal to noise-ratio in dB at the receiver "
   ]
  },
  {
   "cell_type": "markdown",
   "metadata": {},
   "source": [
    "Now, that we have defined the necessary parameters for our OFDM example, let us consider the blocks in the OFDM system. Reconsider the block diagram:"
   ]
  },
  {
   "cell_type": "markdown",
   "metadata": {},
   "source": [
    "It all starts with a random bit sequence $b$. We generate the according bits by a random generator that draws from a Bernoulli distribution with $p=0.5$, i.e. 1 and 0 have equal probability. Note, that the Bernoulli distribution is a special case of the Binomial distribution, when only one draw is considered ($n=1$):"
   ]
  },
  {
   "cell_type": "code",
   "execution_count": 65,
   "metadata": {},
   "outputs": [
    {
     "name": "stdout",
     "output_type": "stream",
     "text": [
      "Bits count: 216 \n",
      "First 20 bits: 0  0  1  1  1  0  1  1  1  1  0  1  1  0  1  0  0  1  1  1\n",
      "Mean of bits (should be around 0.5): 0.48148\n"
     ]
    }
   ],
   "source": [
    "bits = randi([0 1], 1, payloadBits_per_OFDM);\n",
    "fprintf (\"Bits count: %.f \\n\", length(bits));\n",
    "disp ([\"First 20 bits: \",  num2str(bits(1:20))]);\n",
    "disp ([\"Mean of bits (should be around 0.5): \", num2str(mean(bits))]);"
   ]
  },
  {
   "cell_type": "markdown",
   "metadata": {},
   "source": [
    "The ```bits``` are now sent to a serial-to-parallel converter, which groups the bits for the OFDM frame into a groups of $mu$ bits (i.e. one group for each subcarrier):"
   ]
  },
  {
   "cell_type": "code",
   "execution_count": 66,
   "metadata": {},
   "outputs": [
    {
     "name": "stdout",
     "output_type": "stream",
     "text": [
      "First 5 bit groups: \n",
      "   0   1   1   0\n",
      "   0   0   1   0\n",
      "   1   0   0   0\n",
      "   1   0   1   0\n",
      "   1   1   1   1\n"
     ]
    }
   ],
   "source": [
    "function bits_SP = SP(bits,dataCarriers,mu)\n",
    "    % SP converts serial stream of bits to parallel with number of modulation order \n",
    "    % SP(all bits, data carriers, bits per symbol)\n",
    "     bits_SP = reshape(bits,length(dataCarriers), mu);\n",
    "endfunction\n",
    "bits_SP = SP(bits,dataCarriers,mu);\n",
    "disp (\"First 5 bit groups: \")\n",
    "disp (bits_SP(1:5,:))"
   ]
  },
  {
   "cell_type": "markdown",
   "metadata": {},
   "source": [
    "Now, the bits groups are sent to the mapper. The mapper converts the groups into complex-valued constellation symbols according to the ```mapping_table```."
   ]
  },
  {
   "cell_type": "code",
   "execution_count": 67,
   "metadata": {},
   "outputs": [
    {
     "name": "stdout",
     "output_type": "stream",
     "text": [
      "First 5 QAM symbols and bits:\n",
      "   0   1   1   0\n",
      "   0   0   1   0\n",
      "   1   0   0   0\n",
      "   1   0   1   0\n",
      "   1   1   1   1\n",
      "  -1 - 1i  -3 - 1i   1 + 3i   1 - 1i   3 - 3i\n"
     ]
    }
   ],
   "source": [
    "data = bin2dec(num2str(bits_SP));\n",
    "QAM = mapping_table(data + 1);\n",
    "disp (\"First 5 QAM symbols and bits:\");\n",
    "disp (bits_SP(1:5,:));\n",
    "disp (QAM(1:5));"
   ]
  },
  {
   "cell_type": "markdown",
   "metadata": {},
   "source": [
    "The next step (which is not shown in the diagram) is the allocation of different subcarriers with data and pilots. For each subcarrier we have defined wether it carries data or a pilot by the arrays ```dataCarriers``` and ```pilotCarriers```. Now, to create the overall OFDM data, we need to put the data and pilots into the OFDM carriers:"
   ]
  },
  {
   "cell_type": "code",
   "execution_count": 68,
   "metadata": {},
   "outputs": [
    {
     "name": "stdout",
     "output_type": "stream",
     "text": [
      "Number of OFDM carriers in frequency domain: 64\r\n"
     ]
    }
   ],
   "source": [
    "OFDM_data(pilotCarriers) = pilotValue;\n",
    "OFDM_data(dataCarriers) = QAM;\n",
    "\n",
    "disp ([\"Number of OFDM carriers in frequency domain: \", num2str(length(OFDM_data))])"
   ]
  },
  {
   "cell_type": "markdown",
   "metadata": {},
   "source": [
    "Now, the OFDM carriers contained in ```OFDM_data``` can be transformed to the time-domain by means of the IDFT operation."
   ]
  },
  {
   "cell_type": "code",
   "execution_count": 69,
   "metadata": {},
   "outputs": [
    {
     "name": "stdout",
     "output_type": "stream",
     "text": [
      "Number of OFDM samples in time-domain before CP: 64\r\n"
     ]
    }
   ],
   "source": [
    "OFDM_time = ifft(OFDM_data);\n",
    "disp ([\"Number of OFDM samples in time-domain before CP: \", num2str(length(OFDM_time))])"
   ]
  },
  {
   "cell_type": "markdown",
   "metadata": {},
   "source": [
    "Subsequently, we add a cyclic prefix to the symbol. This operation concatenates a copy of the last ```CP``` samples of the OFDM time domain signal to the beginning. This way, a cyclic extension is achieved. The CP fulfills two tasks:\n",
    "\n",
    "It isolates different OFDM blocks from each other when the wireless channel contains multiple paths, i.e. is frequency-selective.\n",
    "It turns the linear convolution with the channel into a circular one. Only with a circular convolution, we can use the single-tap equalization OFDM is so famous for.\n",
    "For more information about the CP, you can refer to a dedicated article about the Cyclic Prefix in OFDM."
   ]
  },
  {
   "cell_type": "code",
   "execution_count": 70,
   "metadata": {},
   "outputs": [
    {
     "name": "stdout",
     "output_type": "stream",
     "text": [
      "Number of OFDM samples in time domain with CP: 80\r\n"
     ]
    }
   ],
   "source": [
    "OFDM_withCP = [OFDM_time(end-CP+1:end) OFDM_time];\n",
    "disp ([\"Number of OFDM samples in time domain with CP: \", num2str(length(OFDM_withCP))])"
   ]
  },
  {
   "cell_type": "markdown",
   "metadata": {},
   "source": [
    "Now, the signal is sent to the antenna and sent over the air to the receiver. In between both antennas, there is the wireless channel. We model this channel as a static multipath channel with impulse response channelResponse. Hence, the signal at the receive antenna is the convolution of the transmit signal with the channel response. Additionally, we add some noise to the signal according to the given SNR value:"
   ]
  },
  {
   "cell_type": "code",
   "execution_count": 71,
   "metadata": {},
   "outputs": [
    {
     "name": "stdout",
     "output_type": "stream",
     "text": [
      "RX Signal power: 0.1933. Noise power: 0.0006"
     ]
    },
    {
     "data": {
      "image/png": "[encoded data removed]",
      "text/plain": [
       "<IPython.core.display.Image object>"
      ]
     },
     "metadata": {},
     "output_type": "display_data"
    }
   ],
   "source": [
    "OFDM_TX = OFDM_withCP;\n",
    "OFDM_RX = conv(OFDM_TX, channelResponse);\n",
    "signal_power = mean(abs(OFDM_RX.^2));\n",
    "sigma2 = signal_power * 10.^(-SNRdb/10);  % calculate noise power based on signal power and SNR\n",
    "noise = sqrt(sigma2/2) * (randn(size(OFDM_RX)) +1j*randn(size(OFDM_RX)));\n",
    "OFDM_RX = OFDM_RX + noise;\n",
    "printf (\"RX Signal power: %.4f. Noise power: %.4f\", signal_power, sigma2)\n",
    "\n",
    "plot(abs(OFDM_TX)); hold on;\n",
    "plot(abs(OFDM_RX)); grid on;\n",
    "xlabel('Time'); ylabel('|x(t)|');\n",
    "legend('TX signal', 'RX signal')\n"
   ]
  },
  {
   "cell_type": "markdown",
   "metadata": {},
   "source": [
    "Now, at the receiver the CP is removed from the signal and a window of K samples is extracted from the received signal."
   ]
  },
  {
   "cell_type": "code",
   "execution_count": 72,
   "metadata": {},
   "outputs": [],
   "source": [
    "OFDM_RX_noCP = OFDM_RX(CP+1 : CP+K);"
   ]
  },
  {
   "cell_type": "markdown",
   "metadata": {},
   "source": [
    "Afterwards, the signal is transformed back to the frequency domain, in order to have the received value on each subcarrier available.\n",
    "\n"
   ]
  },
  {
   "cell_type": "code",
   "execution_count": 73,
   "metadata": {},
   "outputs": [],
   "source": [
    "OFDM_demod = fft(OFDM_RX_noCP);"
   ]
  },
  {
   "cell_type": "markdown",
   "metadata": {},
   "source": [
    "As the next step, the wireless channel needs to be estimated. For illustration purposes, we resort to a simple zero-forcing channel estimation followed by a simple interpolation. The principle of channel estimation is as follows:\n",
    "\n",
    "The transmit signal contains pilot values at certain pilot carriers. These pilot values and their position in the frequency domain (i.e. the pilot carrier index) are known to the receiver. From the received information at the pilot subcarriers, the receiver can estimate the effect of the wireless channel onto this subcarrier (because it knows what was transmitted and what was received). Hence, the receiver gains information about the wireless channel at the pilot carriers. However, it wants to know what happened at the data carriers. To achieve this, it interpolates the channel values between the pilot carriers to get an estimate of the channel in the data carriers"
   ]
  },
  {
   "cell_type": "code",
   "execution_count": 74,
   "metadata": {},
   "outputs": [
    {
     "data": {
      "image/png": "[encoded data removed]",
      "text/plain": [
       "<IPython.core.display.Image object>"
      ]
     },
     "metadata": {},
     "output_type": "display_data"
    }
   ],
   "source": [
    "% def channelEstimate(OFDM_demod):\n",
    "    pilots = OFDM_demod(pilotCarriers);  % extract the pilot values from the RX signal\n",
    "    Hest_at_pilots = pilots / pilotValue; % divide by the transmitted pilot values\n",
    "    \n",
    "    # Perform interpolation between the pilot carriers to get an estimate\n",
    "    # of the channel in the data carriers. Here, we interpolate absolute value and phase \n",
    "    # separately\n",
    "    Hest_abs = interp1(pilotCarriers, abs(Hest_at_pilots), allCarriers);\n",
    "    Hest_phase = interp1(pilotCarriers, angle(Hest_at_pilots), allCarriers);\n",
    "    Hest = Hest_abs .* exp(1j*Hest_phase);\n",
    "    \n",
    "    plot(allCarriers, abs(H_exact)); hold on; \n",
    "    stem(pilotCarriers, abs(Hest_at_pilots));\n",
    "    plot(allCarriers, abs(Hest));\n",
    "    xlabel('Carrier index'); ylabel('|H(f)|'); \n",
    "    legend('Correct Channel', 'Pilot estimates', 'Estimated channel via interpolation');\n",
    "    grid on; \n",
    "    \n",
    "% Hest = channelEstimate(OFDM_demod)"
   ]
  },
  {
   "cell_type": "markdown",
   "metadata": {},
   "source": [
    "Now that the channel is estimated at all carriers, we can use this information in the channel equalizer step. Here, for each subcarrier, the influence of the channel is removed such that we get the clear (only noisy) constellation symbols back."
   ]
  },
  {
   "cell_type": "code",
   "execution_count": 75,
   "metadata": {},
   "outputs": [],
   "source": [
    "equalized_Hest = OFDM_demod ./ Hest;"
   ]
  },
  {
   "cell_type": "markdown",
   "metadata": {},
   "source": [
    "The next step (not shown in the diagram) is to extract the data carriers from the equalized symbol. Here, we throw away the pilot carriers, as they do not provide any information, but were used for the channel estimation process."
   ]
  },
  {
   "cell_type": "code",
   "execution_count": 76,
   "metadata": {
    "scrolled": true
   },
   "outputs": [
    {
     "data": {
      "image/png": "[encoded data removed]",
      "text/plain": [
       "<IPython.core.display.Image object>"
      ]
     },
     "metadata": {},
     "output_type": "display_data"
    }
   ],
   "source": [
    "QAM_est = equalized_Hest(dataCarriers);\n",
    "plot(real(QAM_est), imag(QAM_est), 'bo');"
   ]
  },
  {
   "cell_type": "markdown",
   "metadata": {},
   "source": [
    "Now, that the constellation is obtained back, we need to send the complex values to the demapper, to transform the constellation points to the bit groups. In order to do this, we compare each received constellation point against each possible constellation point and choose the constellation point which is closest to the received point. Then, we return the bit-group that belongs to this point."
   ]
  },
  {
   "cell_type": "code",
   "execution_count": 77,
   "metadata": {},
   "outputs": [
    {
     "data": {
      "image/png": "[encoded data removed]",
      "text/plain": [
       "<IPython.core.display.Image object>"
      ]
     },
     "metadata": {},
     "output_type": "display_data"
    }
   ],
   "source": [
    "    constellation = repmat(mapping_table,length(dataCarriers),1);\n",
    "    QAM_rec       = repmat(transpose(QAM_est),1,length(mapping_table));\n",
    "    # calculate distance of each RX point to each possible point\n",
    "    dists = abs(QAM_rec - constellation);\n",
    "    \n",
    "    \n",
    "    # for each element in QAM, choose the index in constellation \n",
    "    # that belongs to the nearest constellation point\n",
    "    [M,I] = min(dists');\n",
    "    \n",
    "    # get back the real constellation point\n",
    "    const_index = mapping_table(I);\n",
    "    \n",
    "    # transform the constellation point into the bit groups\n",
    "    PS_est   = dec2bin(I-1,mu);\n",
    "\n",
    "    \n",
    "for i = 1 : length(QAM_est)    \n",
    "    plot([real(QAM_est(1,i)), real(const_index(1,i))], [imag(QAM_est(1,i)), imag(const_index(1,i))], 'b-o'); hold on;\n",
    "    plot(real(const_index), imag(const_index), 'ro')\n",
    "end"
   ]
  },
  {
   "cell_type": "markdown",
   "metadata": {},
   "source": [
    "\n",
    "In the diagram above, the blue points are the received QAM points, where as the the red points connected to them are the closest possible constellation points, and the bit groups corresponding to these red points are returned.\n",
    "\n",
    "Finally, the bit groups need to be converted to a serial stream of bits, by means of parallel to serial conversion."
   ]
  },
  {
   "cell_type": "code",
   "execution_count": 78,
   "metadata": {},
   "outputs": [],
   "source": [
    "    bits_est = reshape(PS_est,1,[]) - 48;\n"
   ]
  },
  {
   "cell_type": "markdown",
   "metadata": {},
   "source": [
    "Now, that all bits are decoded, let's calculate the bit error rate:\n",
    "\n"
   ]
  },
  {
   "cell_type": "code",
   "execution_count": 79,
   "metadata": {},
   "outputs": [
    {
     "name": "stdout",
     "output_type": "stream",
     "text": [
      "Obtained Bit error rate: 0 "
     ]
    }
   ],
   "source": [
    "    \n",
    "    errors = sum(abs(bits - bits_est));\n",
    "    printf (\"Obtained Bit error rate: %.0f \", errors/length(bits));"
   ]
  },
  {
   "cell_type": "markdown",
   "metadata": {},
   "source": [
    "Fortunately, no bit error occured and the transmission was successful (Reduce the SNR to get some bit errors)\n",
    "\n"
   ]
  },
  {
   "cell_type": "markdown",
   "metadata": {},
   "source": [
    "## Source:\n",
    "https://dspillustrations.com/pages/posts/misc/python-ofdm-example.html"
   ]
  },
  {
   "cell_type": "code",
   "execution_count": null,
   "metadata": {},
   "outputs": [],
   "source": []
  }
 ],
 "metadata": {
  "kernelspec": {
   "display_name": "Octave",
   "language": "octave",
   "name": "octave"
  },
  "language_info": {
   "file_extension": ".m",
   "help_links": [
    {
     "text": "GNU Octave",
     "url": "https://www.gnu.org/software/octave/support.html"
    },
    {
     "text": "Octave Kernel",
     "url": "https://github.com/Calysto/octave_kernel"
    },
    {
     "text": "MetaKernel Magics",
     "url": "https://metakernel.readthedocs.io/en/latest/source/README.html"
    }
   ],
   "mimetype": "text/x-octave",
   "name": "octave",
   "version": "4.2.2"
  }
 },
 "nbformat": 4,
 "nbformat_minor": 4
}
