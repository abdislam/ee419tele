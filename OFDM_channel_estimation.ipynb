{
 "cells": [
  {
   "cell_type": "markdown",
   "metadata": {},
   "source": [
    "# Basic OFDM Example in Python\n",
    "In this notebook, we will investigate the basic building blocks of an OFDM system at the transmitter and receiver side. OFDM (Orthogonal frequency division multiplexing) is a multicarrier system that is applied in a wide range of wireless transmission systems, such as LTE, WiMAX and DVB-T and DAB. The fundamental concept of a multicarrier system is the division of a high-rate transmitted data stream into several low-rate narrow subcarriers. This way, several advantages are obtained:\n",
    "\n",
    "Since the symbol duration is inverse proportional to the symbol rate, each subcarrier has relatively long symbols. Long symbols are robust against multipath fading, as it occurs in wireless systems.\n",
    "When a carrier is in a deep fade due to frequency-selectivity of the channel (i.e. the received energy on this carrier is very low), only the data on this subcarrier is lost, instead of the whole stream.\n",
    "Multicarrier systems allow easy multi-user resource sharing by allocating different subcarriers to different users.\n",
    "Consider the following block diagram, which contains fundamental blocks for the OFDM system:\n",
    "\n",
    "In the following OFDM example, we will go through each block and describe its operation. However, before let us define some parameters that are used for the OFDM system:\n",
    "\n",
    "The number of subcarriers $K$ describes, how many subcarriers are available in the OFDM system.\n"
   ]
  },
  {
   "cell_type": "code",
   "execution_count": null,
   "metadata": {},
   "outputs": [],
   "source": [
    "pkg load communications\n",
    "K = 64 % number of OFDM subcarriers"
   ]
  },
  {
   "cell_type": "markdown",
   "metadata": {},
   "source": [
    "The length of the cyclic prefix (CP) denotes the number of samples that are copied from the end of the modulated block to the beginning, to yield a cyclic extension of the block. There is a dedicated article on the CP of OFDM which treats its application in more detail."
   ]
  },
  {
   "cell_type": "code",
   "execution_count": null,
   "metadata": {},
   "outputs": [],
   "source": [
    "CP = K/4  % length of the cyclic prefix: 25% of the block"
   ]
  },
  {
   "cell_type": "markdown",
   "metadata": {},
   "source": [
    "The number of pilots ***P*** in the OFDM symbol describes, how many carriers are used to transmit known information (i.e. pilots). Pilots will be used at the receiver to estimate the wireless channel between transmitter and receiver. Further, we also define the value that each pilots transmits (which is known to the receiver)."
   ]
  },
  {
   "cell_type": "code",
   "execution_count": null,
   "metadata": {},
   "outputs": [],
   "source": [
    "P = 8 % number of pilot carriers per OFDM block\n",
    "pilotValue = 3 + 3i % The known value each pilot transmits"
   ]
  },
  {
   "cell_type": "markdown",
   "metadata": {},
   "source": [
    "Now, let us define some index sets that describe which carriers transmit pilots and which carriers contain payload.\n",
    "\n"
   ]
  },
  {
   "cell_type": "code",
   "execution_count": null,
   "metadata": {},
   "outputs": [],
   "source": [
    "allCarriers = 1:1:K;  # indices of all subcarriers ([0, 1, ... K-1])\n",
    "\n",
    "pilotCarriers = allCarriers(1:7:end); # Pilots is every (K/P)th carrier.\n",
    "\n",
    "# For convenience of channel estimation, let's make the last carriers also be a pilot\n",
    "pilotCarriers = [pilotCarriers allCarriers(end)]\n",
    "P = P+1\n",
    "\n",
    "# data carriers are all remaining carriers\n",
    "idx               = ismember(allCarriers,pilotCarriers);\n",
    "dataCarriers      = allCarriers;\n",
    "dataCarriers(idx) = []\n",
    "\n",
    "plot(pilotCarriers, zeros(1,length(pilotCarriers)), 'bo'); hold on; % label='pilot'\n",
    "plot(dataCarriers,  zeros(1,length(dataCarriers)), 'ro'); hold off; %  label='data'"
   ]
  },
  {
   "cell_type": "markdown",
   "metadata": {},
   "source": [
    "Let's define the modulation index $μ$ and the corresponding mapping table. We consider 16QAM transmission, i.e. we have $μ=4$ bits per symbol. Furthermore, the mapping from groups of 4 bits to a 16QAM constellation symbol shall be defined in ```mapping_table```."
   ]
  },
  {
   "cell_type": "code",
   "execution_count": null,
   "metadata": {
    "scrolled": true
   },
   "outputs": [],
   "source": [
    "mu = 4 % bits per symbol (i.e. 16QAM)\n",
    "payloadBits_per_OFDM = length(dataCarriers)*mu  # number of payload bits per OFDM symbol\n",
    "\n",
    "mapping_table = [\n",
    "    -3-3j, -3-1j, -3+3j, -3+1j,\n",
    "    -1-3j, -1-1j, -1+3j, -1+1j,\n",
    "    3-3j,  3-1j,  3+3j,  3+1j,\n",
    "    1-3j,  1-1j,  1+3j,  1+1j \n",
    "    ]\n",
    "for b3 = 0:1\n",
    "    for b2 = 0:1\n",
    "        for b1 = 0:1\n",
    "            for b0 = 0:1\n",
    "                B = con b3 b2, b1, b0\n",
    "                Q = mapping_table[B]\n",
    "                plot(real(Q), imag(Q), 'bo')\n",
    "                plot(real(Q), imag(Q)+0.2, num2str(x) for x in B), ha='center')"
   ]
  },
  {
   "cell_type": "code",
   "execution_count": null,
   "metadata": {},
   "outputs": [],
   "source": [
    "imag(pilotValue)"
   ]
  },
  {
   "cell_type": "code",
   "execution_count": null,
   "metadata": {},
   "outputs": [],
   "source": [
    "num2str(110)"
   ]
  },
  {
   "cell_type": "code",
   "execution_count": null,
   "metadata": {},
   "outputs": [],
   "source": []
  },
  {
   "cell_type": "code",
   "execution_count": null,
   "metadata": {},
   "outputs": [],
   "source": []
  },
  {
   "cell_type": "code",
   "execution_count": null,
   "metadata": {},
   "outputs": [],
   "source": []
  }
 ],
 "metadata": {
  "kernelspec": {
   "display_name": "Octave",
   "language": "octave",
   "name": "octave"
  },
  "language_info": {
   "file_extension": ".m",
   "help_links": [
    {
     "text": "GNU Octave",
     "url": "https://www.gnu.org/software/octave/support.html"
    },
    {
     "text": "Octave Kernel",
     "url": "https://github.com/Calysto/octave_kernel"
    },
    {
     "text": "MetaKernel Magics",
     "url": "https://metakernel.readthedocs.io/en/latest/source/README.html"
    }
   ],
   "mimetype": "text/x-octave",
   "name": "octave",
   "version": "4.2.2"
  }
 },
 "nbformat": 4,
 "nbformat_minor": 4
}
