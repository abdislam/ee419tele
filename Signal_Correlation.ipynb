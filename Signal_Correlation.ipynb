{
 "metadata": {
  "kernelspec": {
   "display_name": "Octave",
   "language": "octave",
   "name": "octave"
  },
  "language_info": {
   "file_extension": ".m",
   "help_links": [
    {
     "text": "GNU Octave",
     "url": "https://www.gnu.org/software/octave/support.html"
    },
    {
     "text": "Octave Kernel",
     "url": "https://github.com/Calysto/octave_kernel"
    },
    {
     "text": "MetaKernel Magics",
     "url": "https://metakernel.readthedocs.io/en/latest/source/README.html"
    }
   ],
   "mimetype": "text/x-octave",
   "name": "octave",
   "version": "4.2.2"
  }
 },
 "nbformat": 4,
 "nbformat_minor": 4,

  "cells": [
    {
      "cell_type": "markdown",
      "metadata": {
        "id": "cvZwEuCPM73x",
        "colab_type": "text"
      },
      "source": [
        "## Signal Correlation\n",
        "The MATLAB program can implement directly the concept of signal correlation introduced in Section 2.5. \n",
        "In the next computer example, we provide a program, sign_cor.m, that\n",
        "evaluates the signal correlation coefficients between $x(t)$ and signals $g_1(t)$ , $g_2(t) , . . . , g5 (t)$ .\n",
        "The program first generates a figure which illustrates the six signals in the time domain."
      ]
    },
    {
      "cell_type": "code",
      "metadata": {
        "id": "YdHyrpA3M1Qk",
        "colab_type": "code",
        "colab": {}
      },
      "source": [
        "%% ( file name : sign_cor.m)\n",
        "clear\n",
        "\n",
        "% To generate 6 signals x(t), g_l(t), ... g_5(t);\n",
        "% of this Example\n",
        "% we can first decide the signal within the period of 'T' for g(t)\n",
        "\n",
        "Dt = 0.01; % time increment Dt\n",
        "T = 6.0; % time duration = T\n",
        "t = [-1: Dt: T]; % \"t\" goes between [-1, T] in Dt increment\n",
        "\n",
        "% Then evaluate the signal over the range of \"t\" to plot\n",
        "x = ustep(t) - ustep(t-5);\n",
        "gl = O.5 * (ustep(t) - ustep(t-5)) ;\n",
        "g2 = -(ustep(t) - ustep(t-5));\n",
        "g3 = exp(-t/5) .* (ustep(t) - ustep(t-5));\n",
        "g4 = exp(-t) .* (ustep(t) - ustep(t-5));\n",
        "g5 = sin(2*pi*t) .* (ustep(t) - ustep(t-5));\n",
        "subplot(231); sig1 = plot(t, x, 'k');\n",
        "xlabel('\\itt'); ylabel(' {\\it x} ({\\it t}) '); % Label axis\n",
        "set( sigl, 'Linewidth', 2);  % change linewidth\n",
        "axis( [-.5 6 -1.2 1.2] ); grid % set plot range\n",
        "subplot(232); sig2 = plot(t, gl, 'k');\n",
        "xlabel('\\it t'); ylabel(' {\\it g}_l ({\\it t})');\n",
        "set(sig2, 'Linewidth', 2);\n",
        "axis([-.5 6 -1.2 1.2]); grid\n",
        "subplot(233); sig3 = plot(t, g2, 'k');\n",
        "xlabel('\\it t'); ylabel('{\\it g}_2 ({\\it t})');\n",
        "set(sig3, 'Linewidth', 2);\n",
        "axis([-.5 6 -1.2 1.2]); grid\n",
        "subplot(234); sig4 = plot(t, g3, 'k');\n",
        "xlabel('\\it t'); ylabel('{\\it g}_3 ({\\it t})');\n",
        "set(sig4, 'Linewidth', 2);\n",
        "axis([-.5 6 -1.2 1.2]); grid\n",
        "subplot(235); sig5 = plot(t, g4, 'k');\n",
        "xlabel('\\it t'); ylabel('{\\it g}_4 ({\\it t})');\n",
        "set(sig5, 'Linewidth', 2); grid\n",
        "axis([-.5 6 -1.2 1.2]);\n",
        "subplot(236); sig6 = plot(t, g5, 'k');\n",
        "xlabel('\\it t'); ylabel('{\\it g}_5 ({\\it t})'};\n",
        "set(sig6, 'Linewidth', 2); grid\n",
        "axis( [-.5 6 -1.2 1.2] );\n",
        "%Computing signal energies\n",
        "E0 = sum(x .* conj(x)) * Dt;\n",
        "E1 = sum(gl .* conj(gl)) * Dt;\n",
        "E2 = sum(g2 .* conj(g2)) * Dt;\n",
        "E3 = sum(g3 .* conj(g3)) * Dt;\n",
        "E4 = sum(g4 .* conj(g4)) * Dt;\n",
        "E5 = sum(g5 .* conj(g5)) * Dt;\n",
        "c0 = sum(x .* conj(x)) * Dt / (sqrt(EO * EO))\n",
        "c1 = sum(x .* conj(gl)) * Dt / (sqrt(EO * El))\n",
        "c2 = sum(x .* conj(g2)) * Dt / (sqrt(EO * E2))\n",
        "c3 = sum(x .* conj(g3)) * Dt / (sqrt(EO * E3))\n",
        "c4 = sum(x .* conj(g4)) * Dt / (sqrt(EO * E4))\n",
        "c5 = sum(x .* conj(g5)) * Dt / (sqrt(EO * E5))"
      ],
      "execution_count": 0,
      "outputs": []
    }
  ]
}