{
 "metadata": {
  "kernelspec": {
   "display_name": "Octave",
   "language": "octave",
   "name": "octave"
  },
  "language_info": {
   "file_extension": ".m",
   "help_links": [
    {
     "text": "GNU Octave",
     "url": "https://www.gnu.org/software/octave/support.html"
    },
    {
     "text": "Octave Kernel",
     "url": "https://github.com/Calysto/octave_kernel"
    },
    {
     "text": "MetaKernel Magics",
     "url": "https://metakernel.readthedocs.io/en/latest/source/README.html"
    }
   ],
   "mimetype": "text/x-octave",
   "name": "octave",
   "version": "4.2.2"
  }
 },
 "nbformat": 4,
 "nbformat_minor": 4,

  "cells": [
    {
      "cell_type": "markdown",
      "metadata": {
        "id": "cvZwEuCPM73x",
        "colab_type": "text"
      },
      "source": [
        "## Signal Correlation\n",
        "Using Matlab / Octave, the correlation coefficients can be found by implementing the same concept introduced in the lectures.\n",
        "The next example is a solution for Q5 in HW1:\n",
        "\n",
        "Find the correlation coefficients $C_n$ of signal $x(t)$ and each of the four pulses $g_1(t)$, $g_2(t)$, $g_3(t)$, and $g_4(t)$.\n"
      ]
    },
    {
   "cell_type": "code",
   "execution_count": 6,
   "metadata": {
    "colab": {},
    "colab_type": "code",
    "id": "YdHyrpA3M1Qk"
   },
   "outputs": [
    {
     "name": "stdout",
     "output_type": "stream",
     "text": [
      "c0 =  1\n",
      "c1 =   -1.4558e-16\n",
      "c2 = -1\n",
      "c3 =    1.0618e-16\n",
      "c4 =  0.90002\n"
     ]
    },
    {
     "data": {
      "image/png": "[encoded data removed]",
      "text/plain": [
       "<IPython.core.display.Image object>"
      ]
     },
     "metadata": {},
     "output_type": "display_data"
    }
   ],
   "source": [
    "% (file name: ustep.m)\n",
    "% The unitstep function is a function of time 't'.\n",
    "% Usage y = ustep(t)\n",
    "%\n",
    "% ustep(t) = 0, if t < 0\n",
    "% ustep(t) = 1, if t > = 1 \n",
    "%\n",
    "% t - must be real-valued and can be a vector or a matrix\n",
    "%\n",
    "function y = ustep(t)\n",
    "y = (t >= 0);\n",
    "end \n",
    "\n",
    "clear\n",
    "\n",
    "% To generate 5 signals x(t), g1(t), ... g4(t);\n",
    "% of this Example\n",
    "% we can first decide the signal within the period of 'T' for g(t)\n",
    "\n",
    "Dt = 0.01; % time increment Dt\n",
    "T = 1.5;   % time duration = T\n",
    "t = [-0.5: Dt: T]; % \"t\" goes between [-1, T] in Dt increment\n",
    "\n",
    "% Then evaluate the signal over the range of \"t\" to plot\n",
    "x = sin(2*pi*t) .* (ustep(t) - ustep(t-1));\n",
    "g1 = sin(4*pi*t) .* (ustep(t) - ustep(t-1)) ;\n",
    "g2 = -sin(2*pi*t) .* (ustep(t) - ustep(t-1));\n",
    "g3 = 0.707 * (ustep(t) - ustep(t-1));\n",
    "g4 = 0.707 * (ustep(t) - 2*ustep(t-0.5) + ustep(t-1));\n",
    "\n",
    "% Figures\n",
    "subplot(231); sig1 = plot(t, x, 'k');\n",
    "xlabel('\\it t'); ylabel(' {\\it x} ({\\it t }) '); % Label axis\n",
    "set( sig1, 'Linewidth', 2);  % change linewidth\n",
    "axis( [-.5 T -1.2 1.2] ); grid % set plot range\n",
    "\n",
    "subplot(232); sig2 = plot(t, g1, 'k');\n",
    "xlabel('\\it t'); ylabel(' {\\it g}_l ({\\it t })');\n",
    "set(sig2, 'Linewidth', 2);\n",
    "axis([-.5 T -1.2 1.2]); grid\n",
    "\n",
    "subplot(233); sig3 = plot(t, g2, 'k');\n",
    "xlabel('\\it t'); ylabel('{\\it g}_2 ({\\it t})');\n",
    "set(sig3, 'Linewidth', 2);\n",
    "axis([-.5 T -1.2 1.2]); grid\n",
    "\n",
    "subplot(234); sig4 = plot(t, g3, 'k');\n",
    "xlabel('\\it t'); ylabel('{\\it g}_3 ({\\it t})');\n",
    "set(sig4, 'Linewidth', 2);\n",
    "axis([-.5 T -1.2 1.2]); %grid\n",
    "\n",
    "subplot(235); sig5 = plot(t, g4, 'k');\n",
    "xlabel('\\it t'); ylabel('{\\it g}_4 ({\\it t})');\n",
    "set(sig5, 'Linewidth', 2); %grid\n",
    "axis([-.5 T -1.2 1.2]);\n",
    "\n",
    "%Computing signal energies\n",
    "E0 = sum(x .* conj(x)) * Dt;\n",
    "E1 = sum(g1 .* conj(g1)) * Dt;\n",
    "E2 = sum(g2 .* conj(g2)) * Dt;\n",
    "E3 = sum(g3 .* conj(g3)) * Dt;\n",
    "E4 = sum(g4 .* conj(g4)) * Dt;\n",
    "\n",
    "c0 = sum(x .* conj(x)) * Dt / (sqrt(E0 * E0))\n",
    "c1 = sum(x .* conj(g1)) * Dt / (sqrt(E0 * E1))\n",
    "c2 = sum(x .* conj(g2)) * Dt / (sqrt(E0 * E2))\n",
    "c3 = sum(x .* conj(g3)) * Dt / (sqrt(E0 * E3))\n",
    "c4 = sum(x .* conj(g4)) * Dt / (sqrt(E0 * E4))"
   ]
  }
  ]
}
