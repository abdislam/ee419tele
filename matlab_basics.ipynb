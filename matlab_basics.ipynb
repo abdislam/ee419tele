{
	"metadata": {
	 "kernelspec": {
   "display_name": "Octave 4.2.0",
   "language": "octave",
   "name": "octave"
  },
 "language_info": {
   "file_extension": ".m",
   "help_links": [
    {
     "text": "GNU Octave",
     "url": "https://www.gnu.org/software/octave/support.html"
    },
    {
     "text": "Octave Kernel",
     "url": "https://github.com/Calysto/octave_kernel"
    },
    {
     "text": "MetaKernel Magics",
     "url": "https://github.com/calysto/metakernel/blob/master/metakernel/magics/README.md"
    }
   ],
   "mimetype": "text/x-octave",
   "name": "octave",
   "version": "4.2.0"
  }
 },
 "nbformat": 4,
 "nbformat_minor": 4,
"cells":[{
	"cell_type":"markdown",
	"metadata":{},
	"source":[
		"# Introduction to Matlab / Octave\n","\n"
	]
},{
	"cell_type":"markdown",
	"metadata":{},
	"source":[
		"## Matrices and Arrays"
	]
},{
	"cell_type":"markdown",
	"metadata":{},
	"source":[
		"### Create matrices and vectros\n","\n","\n","\n","```\n","zeros  \tCreate array of all zeros\n","ones\t   Create array of all ones\n","rand\t   Uniformly distributed random numbers\n","eye\t    Identity matrix\n","diag\t   Create diagonal matrix or get diagonal elements of matrix\n","cat\t    Concatenate arrays\n","repmat\t Repeat copies of array\n","```"
	]
},{
	"cell_type":"markdown",
	"metadata":{},
	"source":[
		"Use help command to provide information about any function\n",
		"```\n",
		"help ","```","*function* \n",
		"```\n",
		"help --list \n",
		"```"
	]
},{
	"cell_type":"code",
	"metadata":{},
	"source":[
		"% colon ':'  Vector creation\n","1:2:10"],"execution_count":0,"outputs":[]},{"cell_type":"code","metadata":{"id":"7ZI2l6CzRbuV","colab_type":"code","colab":{}},"source":["% linspace\tGenerate linearly spaced vector\n","linspace(0, 1, 1e2)"],"execution_count":0,"outputs":[]},{"cell_type":"code","metadata":{"id":"8xaOgt8bLF9V","colab_type":"code","colab":{}},"source":["% zeros    Create array of all zeros\n","zeros(2,2)"],"execution_count":0,"outputs":[]},{"cell_type":"code","metadata":{"id":"PTC3KXRgPTGq","colab_type":"code","colab":{}},"source":["% ones    Create array of all ones\n","ones(3,3)"],"execution_count":0,"outputs":[]},{"cell_type":"code","metadata":{"id":"Y-lGQL8FPOUr","colab_type":"code","colab":{}},"source":["% rand    Uniformly distributed random numbers\n","rand(1,5)"],"execution_count":0,"outputs":[]},{"cell_type":"code","metadata":{"id":"xugInufUPLjy","colab_type":"code","colab":{}},"source":["% eye    Identity matrix\n","eye(2)"],"execution_count":0,"outputs":[]},{"cell_type":"code","metadata":{"id":"VslcxjG5PDPB","colab_type":"code","colab":{}},"source":["% diag    Create diagonal matrix or get diagonal elements of matrix\n","A = [1 2 -4]\n","diag(A)\n","B = [1 2; 3 4]\n","diag(B)"],"execution_count":0,"outputs":[]},{"cell_type":"code","metadata":{"id":"A5sZtpTjPDkj","colab_type":"code","colab":{}},"source":["% cat    Concatenate arrays\n","A = ones(2)\n","B = zeros(2)\n","cat(1,A,B)\n","cat(2,A,B)"],"execution_count":0,"outputs":[]},{"cell_type":"code","metadata":{"id":"Q2XhWfS9PBy5","colab_type":"code","colab":{}},"source":["% repmat    Repeat copies of array\n","A = eye(2)\n","repmat(A,2,3)"],"execution_count":0,"outputs":[]},{"cell_type":"markdown","metadata":{"id":"v4Hpo4PkP1KZ","colab_type":"text"},"source":["### Determine Size, Shape, and Order\n","```\n","length\t  Length of largest array dimension\n","size\t    Array size\n","ndims\t   Number of array dimensions\n","isempty\t Determine whether array is empty\n","```\n"]},{"cell_type":"code","metadata":{"id":"rOX-cP03RsBK","colab_type":"code","colab":{}},"source":["% length\t  Length of largest array dimension\n","A = rand(2,100);\n","length(A)"],"execution_count":0,"outputs":[]},{"cell_type":"code","metadata":{"id":"3RfbVgj3RsW4","colab_type":"code","colab":{}},"source":["% size\t    Array size\n","A = rand(3,100);\n","size(A)"],"execution_count":0,"outputs":[]},{"cell_type":"code","metadata":{"id":"9tQc9K4PRseN","colab_type":"code","colab":{}},"source":["% ndims \t  Number of array dimensions\n","A = rand(2,3,100);\n","ndims(A)"],"execution_count":0,"outputs":[]},{"cell_type":"code","metadata":{"id":"1H48CqM_Rsld","colab_type":"code","colab":{}},"source":["% isempty\t  Determine whether array is empty\n","A  = zeros(2,3)\n","isempty(A)\n","B  = []\n","isempty(B)"],"execution_count":0,"outputs":[]},{"cell_type":"markdown","metadata":{"id":"BAvG-g47Qohk","colab_type":"text"},"source":["### Reshape and Rearrange\n","```\n","sort    \tSort array elements\n","sortrows\t Sort rows of matrix or table\n","flip\t     Flip order of elements\n","fliplr\t   Flip array left to right\n","transpose\tTranspose vector or matrix\n","reshape\t  Reshape array\n","squeeze\t  Remove dimensions of length 1\n","```\n"]},{"cell_type":"code","metadata":{"id":"hplzX1TeSLXq","colab_type":"code","colab":{}},"source":["% sort\t     Sort array elements\n","A = [-2 3 4; 5 2 7; -1 0 3]\n","B = sort(A)                 % Create a matrix and sort its column elements in ascending order\n","B = sort(A,2,'descend')     % Create a matrix and sort its rows in descending order"],"execution_count":0,"outputs":[]},{"cell_type":"code","metadata":{"id":"dxBN7f_4SLq9","colab_type":"code","colab":{}},"source":["% sortrows\t Create a matrix and sort its rows in ascending order based on the elements in the first column\n","A        = round(rand(5,6)*10);\n","A(1:3,1) = 3; A(4:5,1) = 5; A(2:3,2) = 3\n","B        = sortrows(A)"],"execution_count":0,"outputs":[]},{"cell_type":"code","metadata":{"id":"Ssn55ximSLw_","colab_type":"code","colab":{}},"source":["% flip\t     Flip order of elements\n","A = [1 2 3]\n","B = flip(A)"],"execution_count":0,"outputs":[]},{"cell_type":"code","metadata":{"id":"BMUWEcJpSL3Z","colab_type":"code","colab":{}},"source":["% fliplr\t   Flip array left to right\n","A = [1 2 3; 4 5 6; 7 8 9]\n","B = fliplr(A)"],"execution_count":0,"outputs":[]},{"cell_type":"code","metadata":{"id":"NVrSQHJwSL7g","colab_type":"code","colab":{}},"source":["% transpose\t Transpose vector or matrix\n","A = [1 2 3; 4 5 6; 7 8 9]\n","B = transpose(A)"],"execution_count":0,"outputs":[]},{"cell_type":"code","metadata":{"id":"mUPP-lMbSMEJ","colab_type":"code","colab":{}},"source":["% reshape\t   Reshape array\n","A = [1 2 3; 4 5 6]\n","B = reshape(A,3,[])"],"execution_count":0,"outputs":[]},{"cell_type":"code","metadata":{"id":"pj27euFLSL1E","colab_type":"code","colab":{}},"source":["% squeeze\t   Remove dimensions of length 1\n","A = zeros(2,1,2);\n","A(:,:,1) = [1 2]';\n","A(:,:,2) = [3 4]'\n","squeeze(A)"],"execution_count":0,"outputs":[]},{"cell_type":"markdown","metadata":{"id":"3B2aJUDkQotz","colab_type":"text"},"source":["### Indexing\n","```\n","colon\t  Vector creation, array subscripting, and for-loop iteration\n","end\t    Terminate block of code or indicate last array index\n","ind2sub\tConvert linear indices to subscripts\n","sub2ind\tConvert subscripts to linear indices\n","```"]},{"cell_type":"code","metadata":{"id":"-ROUAxyEQT9S","colab_type":"code","colab":{}},"source":["% colon\t   array subscripting\n","A = round(rand(3,10)*10)\n","A(2,:)\n","\n","% colon\t   for-loop iteration\n","for a = 4:-2:0\n","    a\n","end"],"execution_count":0,"outputs":[]},{"cell_type":"code","metadata":{"id":"rjc9vSoUTWKZ","colab_type":"code","colab":{}},"source":["% end\t     Terminate block of code or indicate last array index\n","A = round(rand(3,10)*10)\n","A(:, 8:end)"],"execution_count":0,"outputs":[]},{"cell_type":"code","metadata":{"id":"P7swOQI4TWVz","colab_type":"code","colab":{}},"source":["% ind2sub\t Convert linear indices to subscripts\n","ind = [1 2 3 4];\n","sz = [2 2];\n","[row,col] = ind2sub(sz,ind)"],"execution_count":0,"outputs":[]},{"cell_type":"code","metadata":{"id":"y7Znp_zmTWiU","colab_type":"code","colab":{}},"source":["% sub2ind\t Convert subscripts to linear indices\n","row = [1 2 1 2];\n","col = [1 1 2 2];\n","sz = [2 2];\n","ind = sub2ind(sz,row,col)"],"execution_count":0,"outputs":[]},{"cell_type":"markdown","metadata":{"id":"2tMqqVzjV6qh","colab_type":"text"},"source":["### Matrices and Vectors Operations"]},{"cell_type":"code","metadata":{"id":"7r10HqWvWhol","colab_type":"code","colab":{}},"source":["A = [1 2 3; 4 5 6; 7 8 9]\n","A + 4  % Matrix summation with a scalar \n","A*2    % Matrix multiplication with a scalar\n","a = [1; 2; 3]\n","A*a\n","sin(A)\n","B = rand(3,3)\n","A+B\n","A*B\n","A.*B\n","A.^2\n","A/B\n","A\\B\n","det(A)\n","sum(A)\n","max(A)\n","find(A<1)\n"],"execution_count":0,"outputs":[]}]}
