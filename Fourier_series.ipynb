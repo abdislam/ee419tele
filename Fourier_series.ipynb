{
	"cells":[{
 "cell_type":"markdown",
		"metadata":{},
		"source":[
			"##  Trigonometric Fourier series examples\n",
			"\n",
			"**Example:** Find the compact trigonometric Fourier series for the exponential $e^{\\frac{-t}{2}}$ over the interval $0 \\leq t \\leq \\pi$\n",
			"\n","**Solution**\n","\n","The fundamental frequency is $\\omega_0=\\frac{2\\pi}{T_0}=\\frac{2\\pi}{\\pi}=2$ rad/sec.\n",
			"$$g(t)\\,=\\,a_0\\,+\\,\\sum_{n=1}^{\\infty}\\,a_n\\,cos\\,2nt\\,+\\,b_n\\,sin\\,2nt\\;\\;\\;0\\leq t\\leq \\pi$$\n",
			"$$a_0\\:=\\:\\frac{1}{\\pi}\\:\\int_{0}^{\\pi}\\:e^{\\frac{-t}{2}}\\:dt\\:=\\:0.504$$\n",
			"$$a_n\\:=\\:\\frac{1}{\\pi}\\:\\int_{0}^{\\pi}\\:e^{\\frac{-t}{2}}\\:\\cos\\,2nt\\:dt\\:=\\:0.504\\,\\frac{2}{1+16n^2}$$\n","$$b_n\\:=\\:\\frac{1}{\\pi}\\:\\int_{0}^{\\pi}\\:e^{\\frac{-t}{2}}\\:\\sin\\,2nt\\:dt\\:=\\:0.504\\,\\frac{8n}{1+16n^2}$$\n",
			"$$g(t)\\:=\\:0.504\\:[1\\:+\\:\\sum_{n=1}^{\\infty}\\:\\frac{2}{1+16n^2}\\:(\\cos 2nt+\\:4n\\,\\sin 2nt)] \\:\\:\\:, 0 \\leq t \\leq \\pi$$\n",
			"\n",
			"For the compact Fourier series:\n",
			"$$C_0\\,=\\,a_0=\\,0.504$$\n",
			"$$C_n\\,=\\,\\sqrt{a_{n}^{2}+b_{n}^{2}}\\,=\\,0.504\\,\\sqrt{\\frac{4}{(1+16n^2)^2}\\frac{64n^2}{(1+16n^2)^2}}\\,=\\,0.504\\,(\\frac{2}{\\sqrt{1+16n^2}})$$\n","$$\\theta _n=\\tan ^{-1}(\\frac{-b_n}{a_n})=tan ^{-1}(-4n)=-tan ^{-1}(4n) $$\n",
			"\n",
			"$$g(t)= 0.504+0.244\\,\\cos(2t-75.96^o)+0.125\\,\\cos(4t-82.42^o)\\,+\\,...\\;\\;\\;,0\\,\\leq t\\,\\leq \\pi$$\n"
		]
	},
		 {
			 "cell_type":"code",
			 "metadata":{},
			 "source":[
				 "% This program synthesizes Fourier series to yield the original function\n","T0  = pi;\n",
				 "w0  = 2;\n",
				 "t   = 0 : T0/256 : 2*T0;  % create a time vector of two cycles length\n",
				 "i   = 100;  % number of iterations (harmonics)\n","c0  = 0.504;\n","cn_sum  = 0;\n",
				 "\n",
				 "for n = 1:i\n",
				 "    cn     = 0.504*(2 / sqrt(1 + 16*n^2)) * cos(2*n.*t - atan(4*n) );\n",
				 "    cn_sum = cn_sum + cn; \n",
				 "end\n","\n","g = c0 + cn_sum;\n",
				 "\n",
				 "% figure\n",
				 "plot(t,g)"
			 ],
			 "execution_count":0,
			 "outputs":[]
		 },
	{
      "cell_type": "markdown",
      "metadata": {},
      "source": [
        "Compute and plot the trigonometric and exponential Fourier sereis of the periodic signal $g(t) = e^{-t/2}, 0< t < \\pi$ . "
      ]
    },
    {
      "cell_type": "code",
      "metadata": {},
      "source": [
	"% (c21.m)\n",
        "% M is the number of coefficients to be computed\n",
        "T0 = pi; N0 = 256; Ts = T0/N0; M = 10;\n",
        "t = 0:Ts:Ts*(N0-1); \n",
        "t = t';\n",
        "g = exp(-t/2);\n",
        "\n",
        "% fft(g) is the FFT\n",
        "Dn = fft(g)/N0;\n",
        "[Dnangle, Dnmag] = cart2pol(real(Dn), imag(Dn));\n",
        "k = 0:length(Dn)-1; \n",
        "k = k';\n",
        "subplot(211), stem(k,Dnmag)\n",
        "subplot(212), stem(k,Dnangle)\n"
      ],
      "execution_count": 0,
      "outputs": []
    },
    {
      "cell_type": "code",
      "metadata": {},
      "source": [
        "C0 = Dnmag(1);\n",
        "Cn = 2 * Dnmag(2:M);\n",
        "Amplitudes = [C0; Cn];\n",
        "Angles = Dnangle(1:M) * (180/pi);\n",
        "disp('Amplitudes Angles')\n",
        "[Amplitude Angles]\n",
        "\n",
        "% To plot the Fourier coefficients\n",
        "k = 0 : length(Amplitudes)-1;\n",
        "k = k';\n",
        "subplot(211), stem(k,Amplitudes)\n",
        "subplot(212), stem(k,Angles)"
      ],
      "execution_count": 0,
      "outputs": []
    },
		 {"cell_type":"markdown",
		  "metadata":{},
		  "source":[
			  "## Symbolic Matlab\n",
			  "\n",
			  "Using symbolic toolbox, you can determine Fourier series"
		  ]
		 },
		 {"cell_type":"code",
		  "metadata":{},
		  "source":[
			  "pkg load symbolic\n",
			  "syms x n L k\n","\n",
			  "evalin(symengine,'assume(n,Type::Integer)');\n",
			  "\n",
			  "a  = @(f,x,n,L) int(f*cos(n*2*pi*x/L)/L*2,x,0,L);\n",
			  "\n",
			  "b  = @(f,x,n,L) int(f*sin(n*2*pi*x/L)/L*2,x,0,L);\n",
			  "\n",
			  "fs = @(f,x,k,L) a(f,x,0,L)/2 + symsum(a(f,x,n,L)*cos(n*2*pi*x/L) + b(f,x,n,L)*sin(n*2*pi*x/L),n,1,k);\n",
			  "\n",
			  "f = exp(-x/2)\n",
			  "%f = abs(x)\n",
			  "\n",
			  "pretty(fs(f,x,3,pi))\n"
		  ],
		  "execution_count":0,
		  "outputs":[]
		 }
		],
 "metadata": {
	 "kernelspec": {
   "display_name": "Octave 4.2.0",
   "language": "octave",
   "name": "octave"
  },
 "language_info": {
   "file_extension": ".m",
   "help_links": [
    {
     "text": "GNU Octave",
     "url": "https://www.gnu.org/software/octave/support.html"
    },
    {
     "text": "Octave Kernel",
     "url": "https://github.com/Calysto/octave_kernel"
    },
    {
     "text": "MetaKernel Magics",
     "url": "https://github.com/calysto/metakernel/blob/master/metakernel/magics/README.md"
    }
   ],
   "mimetype": "text/x-octave",
   "name": "octave",
   "version": "4.2.0"
  }	
 },
 "nbformat": 4,
 "nbformat_minor": 4
}
