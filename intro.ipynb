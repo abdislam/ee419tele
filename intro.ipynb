{
 "cells":[
	 {
   "cell_type": "markdown",
   "metadata": {
    "collapsed": false
   },
   "source": [
    "## Introduction to Octave / Matlab Basics \n",
    "\n",
	"# Operating on variables\n"
   ]
  },
	 "cell_type": "markdown",
   "metadata": {
    "collapsed": false
   },
   "source": [
	 "Scalar $X = 5$ \n",
   	 "Row Vector $a = [1 2 3 4 5]$\n",
	 "Column Vector $a = [1; 2; 3; 4; 5]$\n",
	 "Row $c = 0:3$
   	 "Matrix $A = [1 2; 3 4]\n"
	 "Use percent sign /%/ for comments\n"
	 "Use a semicoln at the end of a command to suppress the output \n"
   ]
  },
  {
   "cell_type": "code",
   "execution_count": 1,
   "metadata": {
    "collapsed": false
   },
   "outputs": [
   ],
   "source": [
    "X \n", 
    "X*Y-X*3-Y \n", 
    "X=12e6 \n",
    "X=12 \n",
    "X=Yˆ2 \n",
    "X=X+2 \n",
    "Z=sqrt(Y) \n", 
    "Y=X+3 \n",
    "X=2; \n",
    "Y=4; \n",
    "Z=X+Y \n",
    "Y*6 \n",
    "Z=XˆY \n",
    "clc \n",
    "x=rand \n",
    "x=rand \n",
    "help rand \n"
   ]
  }
	],
 "metadata": {
  },
 "nbformat": 4,
 "nbformat_minor": 4
}
