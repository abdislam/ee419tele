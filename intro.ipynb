{
 "cells":[
	 {
   "cell_type": "markdown",
   "metadata": {
    "collapsed": false
   },
   "source": [
    "## Introduction to Octave / Matlab Basics \n",
    "\n",
	"# Operating on variables\n"
   ]
  },
	 {
	 "cell_type": "markdown",
   "metadata": {
    "collapsed": false
   },
   "source": [
	 "Scalar"
   	 ]
  },
	 {
   "cell_type": "code",
   "execution_count": 1,
   "metadata": {},
   "outputs": [],
   "source": ["X = 5"]
  },
	 {
	 "cell_type": "markdown",
   "metadata": {
    "collapsed": false
   },
   "source": [
	 "Row Vector"
	 ]
  },
	 {
   "cell_type": "code",
   "execution_count": 1,
   "metadata": {},
   "outputs": [],
   "source": ["a = [1 2 3 4 5]"]
  },
{
	 "cell_type": "markdown",
   "metadata": {
    "collapsed": false
   },
   "source": [
	 "Column Vector "
	 ]
  },
	 {
   "cell_type": "code",
   "execution_count": 1,
   "metadata": {},
   "outputs": [],
   "source": ["a = [1; 2; 3; 4; 5]"]
  },
	 {
	 "cell_type": "markdown",
   "metadata": {
    "collapsed": false
   },
   "source": [
	 "Row "
   	 ]
  },
	 {
   "cell_type": "code",
   "execution_count": 1,
   "metadata": {},
   "outputs": [],
   "source": ["c = 0:3"]
  },
	 {
	 "cell_type": "markdown",
   "metadata": {
    "collapsed": false
   },
   "source": [
	 "Matrix "
	]
  },
	 {
   "cell_type": "code",
   "execution_count": 1,
   "metadata": {},
   "outputs": [],
   "source": ["A = [1 2; 3 4]"]
  },

	 {
	 "cell_type": "markdown",
   "metadata": {
    "collapsed": false
   },
   "source": [
	 "Use percent sign, %, for comments. \n",
	   "\n",
	 "Use a semicoln at the end of a command to suppress the output. \n"
   ]
  },
	{
      "cell_type": "markdown",
      "metadata": {},
      "source": [
        "Compute and plot the trigonometric and exponential Fourier sereis of the periodic signal $g(t) = e^{-t/2}, 0< t < \\pi$ . "
      ]
    },
    {
      "cell_type": "code",
      "metadata": {},
      "source": [
        "% (c21.m)\n",
        "% M is the number of coefficients to be computed\n",
        "T0 = pi; N0 = 256; Ts = T0/N0; M = 10;\n",
        "t = 0:Ts:Ts*(N0-1); \n",
        "t = t';\n",
        "g = exp(-t/2);\n",
        "\n",
        "% fft(g) is the FFT\n",
        "Dn = fft(g)/N0;\n",
        "[Dnangle, Dnmag] = cart2pol(real(Dn), imag(Dn));\n",
        "k = 0:length(Dn)-1; \n",
        "k = k';\n",
        "subplot(211), stem(k,Dnmag)\n",
        "subplot(212), stem(k,Dnangle)\n"
      ],
      "execution_count": 0,
      "outputs": []
    },
    {
      "cell_type": "code",
      "metadata": {},
      "source": [
        "C0 = Dnmag(1);\n",
        "Cn = 2 * Dnmag(2:M);\n",
        "Amplitudes = [C0; Cn];\n",
        "Angles = Dnangle(1:M) * (180/pi);\n",
        "disp('Amplitudes Angles')\n",
        "[Amplitude Angles]\n",
        "\n",
        "% To plot the Fourier coefficients\n",
        "k = 0 : length(Amplitudes)-1;\n",
        "k = k';\n",
        "subplot(211), stem(k,Amplitudes)\n",
        "subplot(212), stem(k,Angles)"
      ],
      "execution_count": 0,
      "outputs": []
    },  
  {
   "cell_type": "code",
   "execution_count": 1,
   "metadata": {
    "collapsed": false
   },
   "outputs": [
   ],
   "source": [
    "X \n", 
    "X*Y-X*3-Y \n", 
    "X=12e6 \n",
    "X=12 \n",
    "X=Yˆ2 \n",
    "X=X+2 \n",
    "Z=sqrt(Y) \n", 
    "Y=X+3 \n",
    "X=2; \n",
    "Y=4; \n",
    "Z=X+Y \n",
    "Y*6 \n",
    "Z=XˆY \n",
    "clc \n",
    "x=rand \n",
    "x=rand \n",
    "help rand \n"
   ]
  },
	 {
   "cell_type": "markdown",
   "metadata": {},
   "source": [
    "**Expected Output**:\n",
    "       \n",
    "<table style=\"width:20%\">\n",
    "  \n",
    "  <tr>\n",
    "    <td>**shape of X**</td>\n",
    "    <td> (2, 400) </td> \n",
    "  </tr>\n",
    "  \n",
    "  <tr>\n",
    "    <td>**shape of Y**</td>\n",
    "    <td>(1, 400) </td> \n",
    "  </tr>\n",
    "  \n",
    "    <tr>\n",
    "    <td>**m**</td>\n",
    "    <td> 400 </td> \n",
    "  </tr>\n",
    "  \n",
    "</table>"
   ]
  }
	],
 "metadata": {
  },
 "nbformat": 4,
 "nbformat_minor": 4
}
