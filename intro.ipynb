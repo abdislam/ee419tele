{
 "cells": [
  {
   "cell_type": "markdown",
   "metadata": {
    "collapsed": false
   },
   "source": [
    "## This is a demo test for an interactive Matlab tutorial\n",
    "\n",
	"# Octave 5.2.0 on CoCalc\n",
    "\n",
    "https://www.gnu.org/software/octave/news/release/2020/01/31/octave-5.2.0-released.html"
   ]
  },
  {
   "cell_type": "code",
   "execution_count": 1,
   "metadata": {
    "collapsed": false
   },
   "outputs": [
    {
     "name": "stdout",
     "output_type": "stream",
     "text": [
      "ans = 5.2.0\r\n"
     ]
    }
   ],
   "source": [
    "Y*6 \n",
    "Z=XˆY \n",
    "version()"
   ]
  },
  {
   "cell_type": "code",
   "execution_count": 2,
   "metadata": {
    "collapsed": false
   },
   "outputs": [
    {
     "name": "stdout",
     "output_type": "stream",
     "text": [
      "ans =\r\n",
      "\r\n",
      "    8    6    2\r\n",
      "   12    9    3\r\n",
      "   16   12    4\r\n",
      "\r\n"
     ]
    }
   ],
   "source": [
    "[2 3 4]' * [4 3 1]"
   ]
  },
  {
   "cell_type": "code",
   "execution_count": 22,
   "metadata": {
    "collapsed": false
   },
   "outputs": [
    {
     "name": "stdout",
     "output_type": "stream",
     "text": [
      "x =\r\n",
      "\r\n",
      "   0.089845   0.184419   0.089663\r\n",
      "   0.079815   0.158552   0.084762\r\n",
      "   0.096182   0.181078   0.081672\r\n",
      "\r\n"
     ]
    }
   ],
   "source": [
    "x = rand(3,3)^3"
   ]
  },
  {
   "cell_type": "code",
   "execution_count": 23,
   "metadata": {
    "collapsed": false
   },
   "outputs": [
   ],
   "source": [
    "save r-octave.mat x -7"
   ]
  },
  {
   "cell_type": "code",
   "execution_count": 4,
   "metadata": {
    "collapsed": false
   },
   "outputs": [
    {
     "data": {
      "image/png": "[encoded data removed]",
      "text/plain": [
       "<IPython.core.display.Image object>"
      ]
     },
     "execution_count": 4,
     "metadata": {
     },
     "output_type": "execute_result"
    }
   ],
   "source": [
    "scatter(sort(rand(1000, 1)), sort(randn(1000, 1)))"
   ]
  },
  {
   "cell_type": "code",
   "execution_count": 5,
   "metadata": {
    "collapsed": false
   },
   "outputs": [
    {
     "data": {
      "image/png": "[encoded data removed]",
      "text/plain": [
       "<IPython.core.display.Image object>"
      ]
     },
     "execution_count": 5,
     "metadata": {
     },
     "output_type": "execute_result"
    }
   ],
   "source": [
    "i = 0:.1:2*pi;\n",
    "plot(i, sin(i))"
   ]
  },
  {
   "cell_type": "code",
   "execution_count": 6,
   "metadata": {
    "collapsed": false
   },
   "outputs": [
   ],
   "source": [
    "pkg load dicom"
   ]
  },
  {
   "cell_type": "code",
   "execution_count": 7,
   "metadata": {
    "collapsed": false
   },
   "outputs": [
    {
     "name": "stdout",
     "output_type": "stream",
     "text": [
      "ans = 1.2.826.0.1.3680043.2.1143.7307982719693864712282005357773904754\r\n"
     ]
    }
   ],
   "source": [
    "dicomuid()"
   ]
  },
  {
   "cell_type": "code",
   "execution_count": 8,
   "metadata": {
    "collapsed": false
   },
   "outputs": [
    {
     "name": "stdout",
     "output_type": "stream",
     "text": [
      "Symbolic pkg v2.8.0: error: SymPy version 1.1.1 found but is too old (1.2 required)\r\n",
      "    Try \"sympref diagnose\" for more information.\r\n",
      "error: called from\r\n",
      "    assert_have_python_and_sympy at line 156 column 9\r\n",
      "    python_ipc_popen2 at line 79 column 5\r\n",
      "    python_ipc_driver at line 59 column 15\r\n",
      "    python_cmd at line 163 column 11\r\n",
      "    valid_sym_assumptions at line 38 column 10\r\n",
      "    assumptions at line 82 column 7\r\n",
      "    syms at line 97 column 13\r\n"
     ]
    },
    {
     "name": "stdout",
     "output_type": "stream",
     "text": [
      "error: 'x' undefined near line 1 column 9\r\n"
     ]
    },
    {
     "name": "stdout",
     "output_type": "stream",
     "text": [
      "error: 'f' undefined near line 1 column 6\r\n"
     ]
    }
   ],
   "source": [
    "pkg load symbolic;\n",
    "syms x;\n",
    "f = sin(x);\n",
    "diff(f,x)"
   ]
  },
  {
   "cell_type": "code",
   "execution_count": 9,
   "metadata": {
    "collapsed": false
   },
   "outputs": [
    {
     "name": "stdout",
     "output_type": "stream",
     "text": [
      "Symbolic pkg v2.8.0: error: SymPy version 1.1.1 found but is too old (1.2 required)\r\n",
      "    Try \"sympref diagnose\" for more information.\r\n",
      "error: called from\r\n",
      "    assert_have_python_and_sympy at line 156 column 9\r\n",
      "    python_ipc_popen2 at line 79 column 5\r\n",
      "    python_ipc_driver at line 59 column 15\r\n",
      "    python_cmd at line 163 column 11\r\n",
      "    valid_sym_assumptions at line 38 column 10\r\n",
      "    assumptions at line 82 column 7\r\n",
      "    syms at line 97 column 13\r\n"
     ]
    },
    {
     "name": "stdout",
     "output_type": "stream",
     "text": [
      "error: 'x' undefined near line 1 column 14\r\n"
     ]
    },
    {
     "name": "stdout",
     "output_type": "stream",
     "text": [
      "error: 'f' undefined near line 1 column 11\r\n"
     ]
    }
   ],
   "source": [
    "pkg load symbolic; syms x\n",
    "f = 2 * (cos(x) + sin(x)^2)\n",
    "f1 = diff(f, x)"
   ]
  },
  {
   "cell_type": "code",
   "execution_count": 10,
   "metadata": {
    "collapsed": false
   },
   "outputs": [
    {
     "name": "stdout",
     "output_type": "stream",
     "text": [
      "error: 'f' undefined near line 1 column 10\r\n"
     ]
    }
   ],
   "source": [
    "xx = -10:0.1:10;\n",
    "plot(xx, f(xx))"
   ]
  },
  {
   "cell_type": "code",
   "execution_count": 11,
   "metadata": {
    "collapsed": false
   },
   "outputs": [
   ],
   "source": [
    "pkg load image"
   ]
  },
  {
   "cell_type": "code",
   "execution_count": 12,
   "metadata": {
    "collapsed": false
   },
   "outputs": [
    {
     "name": "stdout",
     "output_type": "stream",
     "text": [
      "ans =  46.021\r\n"
     ]
    }
   ],
   "source": [
    "a = ones(100, 100);\n",
    "b = ones(100, 100);\n",
    "b(3, 1) = .5;\n",
    "psnr(a, b)"
   ]
  },
  {
   "cell_type": "markdown",
   "metadata": {
    "collapsed": false
   },
   "source": [
    "This plot shows the famous 3D sombrero.\n",
    "\n",
    "A quadratic meshgrid of $x$ and $y$ coordinates is evaluated via $\\sqrt{x^2 + y^2} + \\epsilon$ and the value $r$ is then the value plotted along the third dimension.\n",
    "\n",
    "Reference: [3d plots](https://octave.org/doc/v4.2.2/Three_002dDimensional-Plots.html#Three_002dDimensional-Plots)"
   ]
  },
  {
   "cell_type": "code",
   "execution_count": 13,
   "metadata": {
    "collapsed": false
   },
   "outputs": [
    {
     "data": {
      "image/png": "[encoded data removed]",
      "text/plain": [
       "<IPython.core.display.Image object>"
      ]
     },
     "execution_count": 13,
     "metadata": {
     },
     "output_type": "execute_result"
    }
   ],
   "source": [
    "tx = ty = linspace (-8, 8, 41)';\n",
    "[xx, yy] = meshgrid (tx, ty);\n",
    "r = sqrt (xx .^ 2 + yy .^ 2) + eps;\n",
    "tz = sin (r) ./ r;\n",
    "mesh (tx, ty, tz);\n",
    "xlabel (\"tx\");\n",
    "ylabel (\"ty\");\n",
    "zlabel (\"tz\");\n",
    "title (\"3-D Sombrero plot\");"
   ]
  },
  {
   "cell_type": "code",
   "execution_count": 0,
   "metadata": {
    "collapsed": false
   },
   "outputs": [
   ],
   "source": [
   ]
  },
  {
   "cell_type": "markdown",
   "metadata": {
    "collapsed": false
   },
   "source": [
    "This draws the set of points, where the given equation is satisfied.\n",
    "Here, it shows a tilted ellipse.\n",
    "\n",
    "$$x^2 + 3 (y-1)^2 + \\frac{x y}{2} = 6$$\n",
    "\n",
    "Reference: [ezplot](https://octave.org/doc/v4.2.2/Two_002ddimensional-Function-Plotting.html#Two_002ddimensional-Function-Plotting)"
   ]
  },
  {
   "cell_type": "code",
   "execution_count": 14,
   "metadata": {
    "collapsed": false
   },
   "outputs": [
    {
     "data": {
      "image/png": "[encoded data removed]",
      "text/plain": [
       "<IPython.core.display.Image object>"
      ]
     },
     "execution_count": 14,
     "metadata": {
     },
     "output_type": "execute_result"
    }
   ],
   "source": [
    "ezplot (@(x, y) x.^2 + 3 * (y - 1).^2 + .5 * x .* y - 6)"
   ]
  },
  {
   "cell_type": "markdown",
   "metadata": {
    "collapsed": false
   },
   "source": [
    "Imagine you want to evaluate a binary function $f(x,\\,y) := x + 2 y$.\n",
    "\n",
    "For evaluating it in vectorized notation, you need a grid for the cartesian product of all $x$ and $y$."
   ]
  },
  {
   "cell_type": "code",
   "execution_count": 15,
   "metadata": {
    "collapsed": false
   },
   "outputs": [
    {
     "name": "stdout",
     "output_type": "stream",
     "text": [
      "ans =\r\n",
      "\r\n",
      "    0    1    2    3\r\n",
      "    2    3    4    5\r\n",
      "    4    5    6    7\r\n",
      "    6    7    8    9\r\n",
      "    8    9   10   11\r\n",
      "\r\n"
     ]
    }
   ],
   "source": [
    "x = 0:3;\n",
    "y = 0:4;\n",
    "[xx, yy] = meshgrid(x, y);\n",
    "xx + 2*yy"
   ]
  },
  {
   "cell_type": "markdown",
   "metadata": {
    "collapsed": false
   },
   "source": [
    "## Octave's ODE PKG in Action"
   ]
  },
  {
   "cell_type": "code",
   "execution_count": 16,
   "metadata": {
    "collapsed": false
   },
   "outputs": [
   ],
   "source": [
    "pkg load odepkg;"
   ]
  },
  {
   "cell_type": "code",
   "execution_count": 17,
   "metadata": {
    "collapsed": false
   },
   "outputs": [
    {
     "data": {
      "image/png": "[encoded data removed]",
      "text/plain": [
       "<IPython.core.display.Image object>"
      ]
     },
     "execution_count": 17,
     "metadata": {
     },
     "output_type": "execute_result"
    }
   ],
   "source": [
    "dxdt = @(t, x) - 0.24 * x.^2 + t;\n",
    "tsteps = [0:0.1:5];\n",
    "[t, x] = ode45(dxdt, tsteps, [-1:0.5:3]);\n",
    "plot(t, x)"
   ]
  },
  {
   "cell_type": "code",
   "execution_count": 0,
   "metadata": {
    "collapsed": false
   },
   "outputs": [
   ],
   "source": [
   ]
  }
 ],
 "metadata": {
  "kernelspec": {
   "display_name": "Octave",
   "language": "octave",
   "name": "octave"
  },
  "language_info": {
   "file_extension": ".m",
   "help_links": [
    {
     "text": "GNU Octave",
     "url": "https://www.gnu.org/software/octave/support.html"
    },
    {
     "text": "Octave Kernel",
     "url": "https://github.com/Calysto/octave_kernel"
    },
    {
     "text": "MetaKernel Magics",
     "url": "https://metakernel.readthedocs.io/en/latest/source/README.html"
    }
   ],
   "mimetype": "text/x-octave",
   "name": "octave",
   "version": "5.2.0"
  }
 },
 "nbformat": 4,
 "nbformat_minor": 4
}
